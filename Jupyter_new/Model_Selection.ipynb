{
 "cells": [
  {
   "cell_type": "code",
   "execution_count": 1,
   "metadata": {},
   "outputs": [
    {
     "name": "stderr",
     "output_type": "stream",
     "text": [
      "In C:\\ProgramData\\Anaconda3\\lib\\site-packages\\matplotlib\\mpl-data\\stylelib\\_classic_test.mplstyle: \n",
      "The text.latex.preview rcparam was deprecated in Matplotlib 3.3 and will be removed two minor releases later.\n",
      "In C:\\ProgramData\\Anaconda3\\lib\\site-packages\\matplotlib\\mpl-data\\stylelib\\_classic_test.mplstyle: \n",
      "The mathtext.fallback_to_cm rcparam was deprecated in Matplotlib 3.3 and will be removed two minor releases later.\n",
      "In C:\\ProgramData\\Anaconda3\\lib\\site-packages\\matplotlib\\mpl-data\\stylelib\\_classic_test.mplstyle: Support for setting the 'mathtext.fallback_to_cm' rcParam is deprecated since 3.3 and will be removed two minor releases later; use 'mathtext.fallback : 'cm' instead.\n",
      "In C:\\ProgramData\\Anaconda3\\lib\\site-packages\\matplotlib\\mpl-data\\stylelib\\_classic_test.mplstyle: \n",
      "The validate_bool_maybe_none function was deprecated in Matplotlib 3.3 and will be removed two minor releases later.\n",
      "In C:\\ProgramData\\Anaconda3\\lib\\site-packages\\matplotlib\\mpl-data\\stylelib\\_classic_test.mplstyle: \n",
      "The savefig.jpeg_quality rcparam was deprecated in Matplotlib 3.3 and will be removed two minor releases later.\n",
      "In C:\\ProgramData\\Anaconda3\\lib\\site-packages\\matplotlib\\mpl-data\\stylelib\\_classic_test.mplstyle: \n",
      "The keymap.all_axes rcparam was deprecated in Matplotlib 3.3 and will be removed two minor releases later.\n",
      "In C:\\ProgramData\\Anaconda3\\lib\\site-packages\\matplotlib\\mpl-data\\stylelib\\_classic_test.mplstyle: \n",
      "The animation.avconv_path rcparam was deprecated in Matplotlib 3.3 and will be removed two minor releases later.\n",
      "In C:\\ProgramData\\Anaconda3\\lib\\site-packages\\matplotlib\\mpl-data\\stylelib\\_classic_test.mplstyle: \n",
      "The animation.avconv_args rcparam was deprecated in Matplotlib 3.3 and will be removed two minor releases later.\n"
     ]
    }
   ],
   "source": [
    "import pandas as pd\n",
    "import numpy as np\n",
    "import matplotlib.pyplot as plt\n",
    "import seaborn as sns\n",
    "import os\n",
    "import pickle\n",
    "from sklearn.metrics import classification_report, roc_curve, precision_recall_curve, roc_auc_score\n",
    "from sklearn.naive_bayes import MultinomialNB\n",
    "from sklearn.linear_model import LogisticRegression\n",
    "from sklearn.ensemble import GradientBoostingClassifier, RandomForestClassifier\n",
    "from sklearn.neighbors import KNeighborsClassifier\n",
    "from sklearn.svm import SVC\n",
    "import xgboost as xgb\n",
    "from imblearn.pipeline import Pipeline\n",
    "from imblearn.over_sampling import SMOTE\n",
    "import shap\n",
    "from sklearn.feature_selection import SelectKBest\n",
    "from sklearn.feature_selection import f_classif\n",
    "%matplotlib inline"
   ]
  },
  {
   "cell_type": "code",
   "execution_count": 2,
   "metadata": {},
   "outputs": [
    {
     "name": "stderr",
     "output_type": "stream",
     "text": [
      "elementwise comparison failed; returning scalar instead, but in the future will perform elementwise comparison\n"
     ]
    }
   ],
   "source": [
    "df_train_path = os.path.join('data','df_train_scaled.csv')\n",
    "df_test_path = os.path.join('data','df_test_scaled.csv')\n",
    "\n",
    "#download in chunks\n",
    "df_train = pd.read_csv(df_train_path, index_col=0, compression='zip')\n",
    "df_test = pd.read_csv(df_test_path, index_col=0, compression='zip')"
   ]
  },
  {
   "cell_type": "code",
   "execution_count": 3,
   "metadata": {},
   "outputs": [
    {
     "data": {
      "text/plain": [
       "((1038769, 21), (194208, 21))"
      ]
     },
     "execution_count": 3,
     "metadata": {},
     "output_type": "execute_result"
    }
   ],
   "source": [
    "df_train.shape,df_test.shape"
   ]
  },
  {
   "cell_type": "code",
   "execution_count": 4,
   "metadata": {},
   "outputs": [],
   "source": [
    "target_col = 'loan_status'\n",
    "\n",
    "#feature space\n",
    "X_train = df_train.drop(columns=[target_col])\n",
    "X_test = df_test.drop(columns=[target_col])\n",
    "\n",
    "#target variable\n",
    "y_train = df_train[target_col]\n",
    "y_test = df_test[target_col]\n"
   ]
  },
  {
   "cell_type": "code",
   "execution_count": 5,
   "metadata": {},
   "outputs": [
    {
     "name": "stdout",
     "output_type": "stream",
     "text": [
      "                   Specs         pvalue         Score\n",
      "3              sub_grade   0.000000e+00  82716.596427\n",
      "2                  grade   0.000000e+00  78921.079651\n",
      "1               int_rate   0.000000e+00  77244.324032\n",
      "0                   term   0.000000e+00  43273.289224\n",
      "17    balance_annual_inc   0.000000e+00  20061.284425\n",
      "18        fico_avg_score   0.000000e+00  18224.824517\n",
      "9                    dti   0.000000e+00  12992.222770\n",
      "19       inst_amnt_ratio   0.000000e+00   6484.992967\n",
      "7    verification_status   0.000000e+00   4504.016610\n",
      "13              mort_acc   0.000000e+00   4031.952355\n",
      "12            revol_util   0.000000e+00   3181.475302\n",
      "6             annual_inc   0.000000e+00   3162.532152\n",
      "16     credit_line_ratio   0.000000e+00   3040.866342\n",
      "5         home_ownership   0.000000e+00   2317.222821\n",
      "15           credit_hist   0.000000e+00   1580.023596\n",
      "10               pub_rec  4.117764e-251   1146.202575\n",
      "14  pub_rec_bankruptcies  1.498258e-163    743.035462\n",
      "11             revol_bal   7.320398e-83    371.939071\n",
      "8                purpose   7.167867e-79    353.604362\n",
      "4             emp_length   7.405094e-23     96.874055\n"
     ]
    }
   ],
   "source": [
    "bestfeatures = SelectKBest(score_func=f_classif, k=10)\n",
    "fit = bestfeatures.fit(X_train,y_train)\n",
    "dfscores = pd.DataFrame(fit.scores_)\n",
    "dfpvalue= pd.DataFrame(fit.pvalues_)\n",
    "dfcolumns = pd.DataFrame(X_train.columns)\n",
    "#concat two dataframes for better visualization \n",
    "featureScores = pd.concat([dfcolumns,dfpvalue,dfscores],axis=1)\n",
    "featureScores.columns = ['Specs','pvalue','Score']  #naming the dataframe columns\n",
    "print(featureScores.nlargest(21,'Score'))  #print 10 best features"
   ]
  },
  {
   "cell_type": "code",
   "execution_count": 6,
   "metadata": {},
   "outputs": [],
   "source": [
    "drop_columns=['pub_rec','pub_rec_bankruptcies','emp_length','purpose','revol_bal','grade','int_rate']"
   ]
  },
  {
   "cell_type": "code",
   "execution_count": 7,
   "metadata": {},
   "outputs": [],
   "source": [
    "X_train=X_train.drop(columns=drop_columns)\n",
    "X_test =X_test.drop(columns=drop_columns)"
   ]
  },
  {
   "cell_type": "code",
   "execution_count": 8,
   "metadata": {},
   "outputs": [
    {
     "data": {
      "text/plain": [
       "((1038769, 13), (194208, 13))"
      ]
     },
     "execution_count": 8,
     "metadata": {},
     "output_type": "execute_result"
    }
   ],
   "source": [
    "X_train.shape,X_test.shape"
   ]
  },
  {
   "cell_type": "code",
   "execution_count": 9,
   "metadata": {},
   "outputs": [],
   "source": [
    "#ROC dict for TPR and FPR values\n",
    "roc_dict = {}\n",
    "\n",
    "#precision recall curve\n",
    "prc_dict = {}\n",
    "\n",
    "\n",
    "def modify_roc_dict(clf, y_test, X_test, name ,dict_modify):\n",
    "    \"\"\"\n",
    "    modifies a dictionary in place and adds keys for ROC metrics\n",
    "    \"\"\"\n",
    "    \n",
    "    fpr, tpr, thresholds = roc_curve(y_test,\n",
    "                                     clf.predict_proba(X_test)[:,1],\n",
    "                                     pos_label=1)\n",
    "    \n",
    "    \n",
    "    clf_roc_dict = {'fpr':fpr, 'tpr': tpr, 'thresholds': thresholds}\n",
    "    \n",
    "    dict_modify[name] = clf_roc_dict\n",
    "    \n",
    "def modify_prc_dict(clf, y_test, X_test, name ,dict_modify):\n",
    "    \"\"\"\n",
    "    modifies a dictionary in place and adds keys for precision recall metrics\n",
    "    \"\"\"\n",
    "    \n",
    "    precision, recall, thresholds = precision_recall_curve(y_test,\n",
    "                                     clf.predict_proba(X_test)[:,1],\n",
    "                                     pos_label=1)\n",
    "    \n",
    "    clf_prc_dict = {'precision':precision, 'recall': recall, 'thresholds': thresholds}\n",
    "    \n",
    "    dict_modify[name] = clf_prc_dict"
   ]
  },
  {
   "cell_type": "code",
   "execution_count": 10,
   "metadata": {},
   "outputs": [],
   "source": [
    "def fit_score_clf(clf, X_train, y_train, X_test, y_test, name='clf'):\n",
    "    \"\"\"\n",
    "    fits a classifer from sklearn and returns a dataframe\n",
    "    clf(sklearn): classifier\n",
    "    X_train(numpy): train features\n",
    "    y_train(numpy): predictions row vector\n",
    "    X_test(numpy): test features\n",
    "    y_test(numpy): ground truth row vector\n",
    "    name(string): name of classifier\n",
    "    \n",
    "    \"\"\"\n",
    "    #fit to train data\n",
    "    clf.fit(X_train, y_train)\n",
    "    #make predictions\n",
    "    y_pred = clf.predict(X_test)\n",
    "    #make dataframe from report\n",
    "    clf_report = pd.DataFrame(classification_report(y_test, y_pred, output_dict=True))\n",
    "    #add clf name as column\n",
    "    clf_report['clf'] = name\n",
    "    \n",
    "    return clf_report"
   ]
  },
  {
   "cell_type": "code",
   "execution_count": 11,
   "metadata": {},
   "outputs": [
    {
     "data": {
      "text/html": [
       "<div>\n",
       "<style scoped>\n",
       "    .dataframe tbody tr th:only-of-type {\n",
       "        vertical-align: middle;\n",
       "    }\n",
       "\n",
       "    .dataframe tbody tr th {\n",
       "        vertical-align: top;\n",
       "    }\n",
       "\n",
       "    .dataframe thead th {\n",
       "        text-align: right;\n",
       "    }\n",
       "</style>\n",
       "<table border=\"1\" class=\"dataframe\">\n",
       "  <thead>\n",
       "    <tr style=\"text-align: right;\">\n",
       "      <th></th>\n",
       "      <th>0</th>\n",
       "      <th>1</th>\n",
       "      <th>accuracy</th>\n",
       "      <th>macro avg</th>\n",
       "      <th>weighted avg</th>\n",
       "      <th>clf</th>\n",
       "    </tr>\n",
       "  </thead>\n",
       "  <tbody>\n",
       "    <tr>\n",
       "      <td>precision</td>\n",
       "      <td>0.732138</td>\n",
       "      <td>0.582242</td>\n",
       "      <td>0.72807</td>\n",
       "      <td>0.657190</td>\n",
       "      <td>0.690708</td>\n",
       "      <td>lr</td>\n",
       "    </tr>\n",
       "    <tr>\n",
       "      <td>recall</td>\n",
       "      <td>0.984331</td>\n",
       "      <td>0.057174</td>\n",
       "      <td>0.72807</td>\n",
       "      <td>0.520753</td>\n",
       "      <td>0.728070</td>\n",
       "      <td>lr</td>\n",
       "    </tr>\n",
       "    <tr>\n",
       "      <td>f1-score</td>\n",
       "      <td>0.839708</td>\n",
       "      <td>0.104124</td>\n",
       "      <td>0.72807</td>\n",
       "      <td>0.471916</td>\n",
       "      <td>0.636397</td>\n",
       "      <td>lr</td>\n",
       "    </tr>\n",
       "    <tr>\n",
       "      <td>support</td>\n",
       "      <td>140530.000000</td>\n",
       "      <td>53678.000000</td>\n",
       "      <td>0.72807</td>\n",
       "      <td>194208.000000</td>\n",
       "      <td>194208.000000</td>\n",
       "      <td>lr</td>\n",
       "    </tr>\n",
       "  </tbody>\n",
       "</table>\n",
       "</div>"
      ],
      "text/plain": [
       "                       0             1  accuracy      macro avg  \\\n",
       "precision       0.732138      0.582242   0.72807       0.657190   \n",
       "recall          0.984331      0.057174   0.72807       0.520753   \n",
       "f1-score        0.839708      0.104124   0.72807       0.471916   \n",
       "support    140530.000000  53678.000000   0.72807  194208.000000   \n",
       "\n",
       "            weighted avg clf  \n",
       "precision       0.690708  lr  \n",
       "recall          0.728070  lr  \n",
       "f1-score        0.636397  lr  \n",
       "support    194208.000000  lr  "
      ]
     },
     "execution_count": 11,
     "metadata": {},
     "output_type": "execute_result"
    }
   ],
   "source": [
    "#instantiate with default params\n",
    "lr  = LogisticRegression(penalty='l2',\n",
    "                         C=1.0,\n",
    "                         solver = 'lbfgs',\n",
    "                         max_iter=400,\n",
    "                         n_jobs=-1)\n",
    "\n",
    "lr_report = fit_score_clf(lr, X_train, y_train, X_test, y_test, name='lr')\n",
    "lr_report.head()"
   ]
  },
  {
   "cell_type": "code",
   "execution_count": 12,
   "metadata": {},
   "outputs": [],
   "source": [
    "#metrics for lr\n",
    "modify_roc_dict(clf=lr,\n",
    "                y_test=y_test,\n",
    "                X_test=X_test,\n",
    "                name='Logistic Regression', \n",
    "                dict_modify=roc_dict)\n",
    "modify_prc_dict(clf=lr,\n",
    "                y_test=y_test,\n",
    "                X_test=X_test,\n",
    "                name='Logistic Regression',\n",
    "                dict_modify=prc_dict)"
   ]
  },
  {
   "cell_type": "code",
   "execution_count": 13,
   "metadata": {},
   "outputs": [
    {
     "data": {
      "text/html": [
       "<div>\n",
       "<style scoped>\n",
       "    .dataframe tbody tr th:only-of-type {\n",
       "        vertical-align: middle;\n",
       "    }\n",
       "\n",
       "    .dataframe tbody tr th {\n",
       "        vertical-align: top;\n",
       "    }\n",
       "\n",
       "    .dataframe thead th {\n",
       "        text-align: right;\n",
       "    }\n",
       "</style>\n",
       "<table border=\"1\" class=\"dataframe\">\n",
       "  <thead>\n",
       "    <tr style=\"text-align: right;\">\n",
       "      <th></th>\n",
       "      <th>0</th>\n",
       "      <th>1</th>\n",
       "      <th>accuracy</th>\n",
       "      <th>macro avg</th>\n",
       "      <th>weighted avg</th>\n",
       "      <th>clf</th>\n",
       "    </tr>\n",
       "  </thead>\n",
       "  <tbody>\n",
       "    <tr>\n",
       "      <td>precision</td>\n",
       "      <td>0.732263</td>\n",
       "      <td>0.602549</td>\n",
       "      <td>0.728909</td>\n",
       "      <td>0.667406</td>\n",
       "      <td>0.696411</td>\n",
       "      <td>gbtree</td>\n",
       "    </tr>\n",
       "    <tr>\n",
       "      <td>recall</td>\n",
       "      <td>0.985797</td>\n",
       "      <td>0.056373</td>\n",
       "      <td>0.728909</td>\n",
       "      <td>0.521085</td>\n",
       "      <td>0.728909</td>\n",
       "      <td>gbtree</td>\n",
       "    </tr>\n",
       "    <tr>\n",
       "      <td>f1-score</td>\n",
       "      <td>0.840323</td>\n",
       "      <td>0.103101</td>\n",
       "      <td>0.728909</td>\n",
       "      <td>0.471712</td>\n",
       "      <td>0.636559</td>\n",
       "      <td>gbtree</td>\n",
       "    </tr>\n",
       "    <tr>\n",
       "      <td>support</td>\n",
       "      <td>140530.000000</td>\n",
       "      <td>53678.000000</td>\n",
       "      <td>0.728909</td>\n",
       "      <td>194208.000000</td>\n",
       "      <td>194208.000000</td>\n",
       "      <td>gbtree</td>\n",
       "    </tr>\n",
       "  </tbody>\n",
       "</table>\n",
       "</div>"
      ],
      "text/plain": [
       "                       0             1  accuracy      macro avg  \\\n",
       "precision       0.732263      0.602549  0.728909       0.667406   \n",
       "recall          0.985797      0.056373  0.728909       0.521085   \n",
       "f1-score        0.840323      0.103101  0.728909       0.471712   \n",
       "support    140530.000000  53678.000000  0.728909  194208.000000   \n",
       "\n",
       "            weighted avg     clf  \n",
       "precision       0.696411  gbtree  \n",
       "recall          0.728909  gbtree  \n",
       "f1-score        0.636559  gbtree  \n",
       "support    194208.000000  gbtree  "
      ]
     },
     "execution_count": 13,
     "metadata": {},
     "output_type": "execute_result"
    }
   ],
   "source": [
    "gbtree = GradientBoostingClassifier(learning_rate=0.1, n_estimators = 100)\n",
    "\n",
    "gbtree_report = fit_score_clf(gbtree, X_train, y_train, X_test, y_test, name='gbtree')\n",
    "gbtree_report.head()"
   ]
  },
  {
   "cell_type": "code",
   "execution_count": 14,
   "metadata": {},
   "outputs": [],
   "source": [
    "#metrics for gbtree\n",
    "modify_roc_dict(gbtree, y_test, X_test, name='GBTree',dict_modify=roc_dict)"
   ]
  },
  {
   "cell_type": "code",
   "execution_count": 15,
   "metadata": {},
   "outputs": [],
   "source": [
    "modify_prc_dict(clf=gbtree,\n",
    "                y_test=y_test,\n",
    "                X_test=X_test,\n",
    "                name='GBTree',\n",
    "                dict_modify=prc_dict)"
   ]
  },
  {
   "cell_type": "code",
   "execution_count": 16,
   "metadata": {},
   "outputs": [
    {
     "data": {
      "text/html": [
       "<div>\n",
       "<style scoped>\n",
       "    .dataframe tbody tr th:only-of-type {\n",
       "        vertical-align: middle;\n",
       "    }\n",
       "\n",
       "    .dataframe tbody tr th {\n",
       "        vertical-align: top;\n",
       "    }\n",
       "\n",
       "    .dataframe thead th {\n",
       "        text-align: right;\n",
       "    }\n",
       "</style>\n",
       "<table border=\"1\" class=\"dataframe\">\n",
       "  <thead>\n",
       "    <tr style=\"text-align: right;\">\n",
       "      <th></th>\n",
       "      <th>0</th>\n",
       "      <th>1</th>\n",
       "      <th>accuracy</th>\n",
       "      <th>macro avg</th>\n",
       "      <th>weighted avg</th>\n",
       "      <th>clf</th>\n",
       "    </tr>\n",
       "  </thead>\n",
       "  <tbody>\n",
       "    <tr>\n",
       "      <td>precision</td>\n",
       "      <td>0.737028</td>\n",
       "      <td>0.573813</td>\n",
       "      <td>0.72998</td>\n",
       "      <td>0.655421</td>\n",
       "      <td>0.691916</td>\n",
       "      <td>rf</td>\n",
       "    </tr>\n",
       "    <tr>\n",
       "      <td>recall</td>\n",
       "      <td>0.974568</td>\n",
       "      <td>0.089646</td>\n",
       "      <td>0.72998</td>\n",
       "      <td>0.532107</td>\n",
       "      <td>0.729980</td>\n",
       "      <td>rf</td>\n",
       "    </tr>\n",
       "    <tr>\n",
       "      <td>f1-score</td>\n",
       "      <td>0.839315</td>\n",
       "      <td>0.155066</td>\n",
       "      <td>0.72998</td>\n",
       "      <td>0.497190</td>\n",
       "      <td>0.650192</td>\n",
       "      <td>rf</td>\n",
       "    </tr>\n",
       "    <tr>\n",
       "      <td>support</td>\n",
       "      <td>140530.000000</td>\n",
       "      <td>53678.000000</td>\n",
       "      <td>0.72998</td>\n",
       "      <td>194208.000000</td>\n",
       "      <td>194208.000000</td>\n",
       "      <td>rf</td>\n",
       "    </tr>\n",
       "  </tbody>\n",
       "</table>\n",
       "</div>"
      ],
      "text/plain": [
       "                       0             1  accuracy      macro avg  \\\n",
       "precision       0.737028      0.573813   0.72998       0.655421   \n",
       "recall          0.974568      0.089646   0.72998       0.532107   \n",
       "f1-score        0.839315      0.155066   0.72998       0.497190   \n",
       "support    140530.000000  53678.000000   0.72998  194208.000000   \n",
       "\n",
       "            weighted avg clf  \n",
       "precision       0.691916  rf  \n",
       "recall          0.729980  rf  \n",
       "f1-score        0.650192  rf  \n",
       "support    194208.000000  rf  "
      ]
     },
     "execution_count": 16,
     "metadata": {},
     "output_type": "execute_result"
    }
   ],
   "source": [
    "rf = RandomForestClassifier(n_estimators=100, n_jobs=-1)\n",
    "\n",
    "rf_report = fit_score_clf(rf, X_train, y_train, X_test, y_test, name='rf')\n",
    "rf_report.head()"
   ]
  },
  {
   "cell_type": "code",
   "execution_count": 17,
   "metadata": {},
   "outputs": [],
   "source": [
    "#metrics for random forest\n",
    "modify_roc_dict(rf, y_test, X_test, name='RandomForest',dict_modify=roc_dict)"
   ]
  },
  {
   "cell_type": "code",
   "execution_count": 18,
   "metadata": {},
   "outputs": [],
   "source": [
    "modify_prc_dict(clf=rf,\n",
    "                y_test=y_test,\n",
    "                X_test=X_test,\n",
    "                name='RandomForest',\n",
    "                dict_modify=prc_dict)"
   ]
  },
  {
   "cell_type": "code",
   "execution_count": 19,
   "metadata": {},
   "outputs": [
    {
     "data": {
      "text/html": [
       "<div>\n",
       "<style scoped>\n",
       "    .dataframe tbody tr th:only-of-type {\n",
       "        vertical-align: middle;\n",
       "    }\n",
       "\n",
       "    .dataframe tbody tr th {\n",
       "        vertical-align: top;\n",
       "    }\n",
       "\n",
       "    .dataframe thead th {\n",
       "        text-align: right;\n",
       "    }\n",
       "</style>\n",
       "<table border=\"1\" class=\"dataframe\">\n",
       "  <thead>\n",
       "    <tr style=\"text-align: right;\">\n",
       "      <th></th>\n",
       "      <th>0</th>\n",
       "      <th>1</th>\n",
       "      <th>accuracy</th>\n",
       "      <th>macro avg</th>\n",
       "      <th>weighted avg</th>\n",
       "      <th>clf</th>\n",
       "    </tr>\n",
       "  </thead>\n",
       "  <tbody>\n",
       "    <tr>\n",
       "      <td>precision</td>\n",
       "      <td>0.739694</td>\n",
       "      <td>0.556853</td>\n",
       "      <td>0.729774</td>\n",
       "      <td>0.648273</td>\n",
       "      <td>0.689157</td>\n",
       "      <td>xgb</td>\n",
       "    </tr>\n",
       "    <tr>\n",
       "      <td>recall</td>\n",
       "      <td>0.966776</td>\n",
       "      <td>0.109300</td>\n",
       "      <td>0.729774</td>\n",
       "      <td>0.538038</td>\n",
       "      <td>0.729774</td>\n",
       "      <td>xgb</td>\n",
       "    </tr>\n",
       "    <tr>\n",
       "      <td>f1-score</td>\n",
       "      <td>0.838126</td>\n",
       "      <td>0.182733</td>\n",
       "      <td>0.729774</td>\n",
       "      <td>0.510429</td>\n",
       "      <td>0.656979</td>\n",
       "      <td>xgb</td>\n",
       "    </tr>\n",
       "    <tr>\n",
       "      <td>support</td>\n",
       "      <td>140530.000000</td>\n",
       "      <td>53678.000000</td>\n",
       "      <td>0.729774</td>\n",
       "      <td>194208.000000</td>\n",
       "      <td>194208.000000</td>\n",
       "      <td>xgb</td>\n",
       "    </tr>\n",
       "  </tbody>\n",
       "</table>\n",
       "</div>"
      ],
      "text/plain": [
       "                       0             1  accuracy      macro avg  \\\n",
       "precision       0.739694      0.556853  0.729774       0.648273   \n",
       "recall          0.966776      0.109300  0.729774       0.538038   \n",
       "f1-score        0.838126      0.182733  0.729774       0.510429   \n",
       "support    140530.000000  53678.000000  0.729774  194208.000000   \n",
       "\n",
       "            weighted avg  clf  \n",
       "precision       0.689157  xgb  \n",
       "recall          0.729774  xgb  \n",
       "f1-score        0.656979  xgb  \n",
       "support    194208.000000  xgb  "
      ]
     },
     "execution_count": 19,
     "metadata": {},
     "output_type": "execute_result"
    }
   ],
   "source": [
    "xgb_clf = xgb.XGBClassifier(n_estimators=300,\n",
    "                     subsample=0.9,\n",
    "                            n_jobs=-1)\n",
    "xgb_report = fit_score_clf(xgb_clf, X_train, y_train, X_test, y_test, name='xgb')\n",
    "xgb_report.head()\n"
   ]
  },
  {
   "cell_type": "code",
   "execution_count": 20,
   "metadata": {},
   "outputs": [],
   "source": [
    "#metrics for xgb\n",
    "modify_roc_dict(xgb_clf, y_test, X_test, name='XGBoost',dict_modify=roc_dict)"
   ]
  },
  {
   "cell_type": "code",
   "execution_count": 21,
   "metadata": {},
   "outputs": [],
   "source": [
    "modify_prc_dict(clf=xgb_clf,\n",
    "                y_test=y_test,\n",
    "                X_test=X_test,\n",
    "                name='XGBoost',\n",
    "                dict_modify=prc_dict)"
   ]
  },
  {
   "cell_type": "code",
   "execution_count": 22,
   "metadata": {},
   "outputs": [
    {
     "name": "stderr",
     "output_type": "stream",
     "text": [
      "Solver terminated early (max_iter=400).  Consider pre-processing your data with StandardScaler or MinMaxScaler.\n"
     ]
    },
    {
     "data": {
      "text/html": [
       "<div>\n",
       "<style scoped>\n",
       "    .dataframe tbody tr th:only-of-type {\n",
       "        vertical-align: middle;\n",
       "    }\n",
       "\n",
       "    .dataframe tbody tr th {\n",
       "        vertical-align: top;\n",
       "    }\n",
       "\n",
       "    .dataframe thead th {\n",
       "        text-align: right;\n",
       "    }\n",
       "</style>\n",
       "<table border=\"1\" class=\"dataframe\">\n",
       "  <thead>\n",
       "    <tr style=\"text-align: right;\">\n",
       "      <th></th>\n",
       "      <th>0</th>\n",
       "      <th>1</th>\n",
       "      <th>accuracy</th>\n",
       "      <th>macro avg</th>\n",
       "      <th>weighted avg</th>\n",
       "      <th>clf</th>\n",
       "    </tr>\n",
       "  </thead>\n",
       "  <tbody>\n",
       "    <tr>\n",
       "      <td>precision</td>\n",
       "      <td>0.726260</td>\n",
       "      <td>0.289456</td>\n",
       "      <td>0.652496</td>\n",
       "      <td>0.507858</td>\n",
       "      <td>0.605529</td>\n",
       "      <td>svc</td>\n",
       "    </tr>\n",
       "    <tr>\n",
       "      <td>recall</td>\n",
       "      <td>0.834178</td>\n",
       "      <td>0.176851</td>\n",
       "      <td>0.652496</td>\n",
       "      <td>0.505514</td>\n",
       "      <td>0.652496</td>\n",
       "      <td>svc</td>\n",
       "    </tr>\n",
       "    <tr>\n",
       "      <td>f1-score</td>\n",
       "      <td>0.776487</td>\n",
       "      <td>0.219557</td>\n",
       "      <td>0.652496</td>\n",
       "      <td>0.498022</td>\n",
       "      <td>0.622555</td>\n",
       "      <td>svc</td>\n",
       "    </tr>\n",
       "    <tr>\n",
       "      <td>support</td>\n",
       "      <td>140530.000000</td>\n",
       "      <td>53678.000000</td>\n",
       "      <td>0.652496</td>\n",
       "      <td>194208.000000</td>\n",
       "      <td>194208.000000</td>\n",
       "      <td>svc</td>\n",
       "    </tr>\n",
       "  </tbody>\n",
       "</table>\n",
       "</div>"
      ],
      "text/plain": [
       "                       0             1  accuracy      macro avg  \\\n",
       "precision       0.726260      0.289456  0.652496       0.507858   \n",
       "recall          0.834178      0.176851  0.652496       0.505514   \n",
       "f1-score        0.776487      0.219557  0.652496       0.498022   \n",
       "support    140530.000000  53678.000000  0.652496  194208.000000   \n",
       "\n",
       "            weighted avg  clf  \n",
       "precision       0.605529  svc  \n",
       "recall          0.652496  svc  \n",
       "f1-score        0.622555  svc  \n",
       "support    194208.000000  svc  "
      ]
     },
     "execution_count": 22,
     "metadata": {},
     "output_type": "execute_result"
    }
   ],
   "source": [
    "#put hard limit on iterations to save time in exploration phase\n",
    "svc = SVC(C=1.0, kernel='rbf',\n",
    "          gamma='auto', \n",
    "          probability=True,\n",
    "          max_iter=400)\n",
    "\n",
    "svc_report = fit_score_clf(svc, X_train, y_train, X_test, y_test, name='svc')\n",
    "svc_report.head()"
   ]
  },
  {
   "cell_type": "code",
   "execution_count": 23,
   "metadata": {},
   "outputs": [],
   "source": [
    "#metrics for svc\n",
    "modify_roc_dict(svc, y_test, X_test, name='SVC',dict_modify=roc_dict)"
   ]
  },
  {
   "cell_type": "code",
   "execution_count": 24,
   "metadata": {},
   "outputs": [],
   "source": [
    "modify_prc_dict(clf=svc,\n",
    "                y_test=y_test,\n",
    "                X_test=X_test,\n",
    "                name='SVC',\n",
    "                dict_modify=prc_dict)"
   ]
  },
  {
   "cell_type": "code",
   "execution_count": 25,
   "metadata": {},
   "outputs": [
    {
     "data": {
      "text/html": [
       "<div>\n",
       "<style scoped>\n",
       "    .dataframe tbody tr th:only-of-type {\n",
       "        vertical-align: middle;\n",
       "    }\n",
       "\n",
       "    .dataframe tbody tr th {\n",
       "        vertical-align: top;\n",
       "    }\n",
       "\n",
       "    .dataframe thead th {\n",
       "        text-align: right;\n",
       "    }\n",
       "</style>\n",
       "<table border=\"1\" class=\"dataframe\">\n",
       "  <thead>\n",
       "    <tr style=\"text-align: right;\">\n",
       "      <th></th>\n",
       "      <th>0</th>\n",
       "      <th>1</th>\n",
       "      <th>accuracy</th>\n",
       "      <th>macro avg</th>\n",
       "      <th>weighted avg</th>\n",
       "      <th>clf</th>\n",
       "    </tr>\n",
       "  </thead>\n",
       "  <tbody>\n",
       "    <tr>\n",
       "      <td>precision</td>\n",
       "      <td>0.742594</td>\n",
       "      <td>0.446715</td>\n",
       "      <td>0.712916</td>\n",
       "      <td>0.594654</td>\n",
       "      <td>0.660815</td>\n",
       "      <td>KNN</td>\n",
       "    </tr>\n",
       "    <tr>\n",
       "      <td>recall</td>\n",
       "      <td>0.923305</td>\n",
       "      <td>0.162115</td>\n",
       "      <td>0.712916</td>\n",
       "      <td>0.542710</td>\n",
       "      <td>0.712916</td>\n",
       "      <td>KNN</td>\n",
       "    </tr>\n",
       "    <tr>\n",
       "      <td>f1-score</td>\n",
       "      <td>0.823148</td>\n",
       "      <td>0.237896</td>\n",
       "      <td>0.712916</td>\n",
       "      <td>0.530522</td>\n",
       "      <td>0.661388</td>\n",
       "      <td>KNN</td>\n",
       "    </tr>\n",
       "    <tr>\n",
       "      <td>support</td>\n",
       "      <td>140530.000000</td>\n",
       "      <td>53678.000000</td>\n",
       "      <td>0.712916</td>\n",
       "      <td>194208.000000</td>\n",
       "      <td>194208.000000</td>\n",
       "      <td>KNN</td>\n",
       "    </tr>\n",
       "  </tbody>\n",
       "</table>\n",
       "</div>"
      ],
      "text/plain": [
       "                       0             1  accuracy      macro avg  \\\n",
       "precision       0.742594      0.446715  0.712916       0.594654   \n",
       "recall          0.923305      0.162115  0.712916       0.542710   \n",
       "f1-score        0.823148      0.237896  0.712916       0.530522   \n",
       "support    140530.000000  53678.000000  0.712916  194208.000000   \n",
       "\n",
       "            weighted avg  clf  \n",
       "precision       0.660815  KNN  \n",
       "recall          0.712916  KNN  \n",
       "f1-score        0.661388  KNN  \n",
       "support    194208.000000  KNN  "
      ]
     },
     "execution_count": 25,
     "metadata": {},
     "output_type": "execute_result"
    }
   ],
   "source": [
    "knn = KNeighborsClassifier(n_neighbors =5, n_jobs=-1)\n",
    "\n",
    "knn_report = fit_score_clf(knn, X_train, y_train, X_test, y_test, name='KNN')\n",
    "knn_report.head()"
   ]
  },
  {
   "cell_type": "code",
   "execution_count": 26,
   "metadata": {},
   "outputs": [],
   "source": [
    "#metrics for knn\n",
    "modify_roc_dict(knn, y_test, X_test, name='KNN',dict_modify=roc_dict)"
   ]
  },
  {
   "cell_type": "code",
   "execution_count": 27,
   "metadata": {},
   "outputs": [],
   "source": [
    "modify_prc_dict(clf=knn,\n",
    "                y_test=y_test,\n",
    "                X_test=X_test,\n",
    "                name='knn',\n",
    "                dict_modify=prc_dict)"
   ]
  },
  {
   "cell_type": "code",
   "execution_count": 28,
   "metadata": {},
   "outputs": [
    {
     "data": {
      "text/plain": [
       "dict_keys(['Logistic Regression', 'GBTree', 'RandomForest', 'XGBoost', 'SVC', 'KNN'])"
      ]
     },
     "execution_count": 28,
     "metadata": {},
     "output_type": "execute_result"
    }
   ],
   "source": [
    "#see keys we have\n",
    "roc_dict.keys()"
   ]
  },
  {
   "cell_type": "code",
   "execution_count": 29,
   "metadata": {},
   "outputs": [
    {
     "data": {
      "image/png": "[encoded data removed]",
      "text/plain": [
       "<Figure size 432x288 with 1 Axes>"
      ]
     },
     "metadata": {
      "needs_background": "light"
     },
     "output_type": "display_data"
    }
   ],
   "source": [
    "for key in roc_dict:\n",
    "    clf = roc_dict[key]\n",
    "    plt.plot(clf['fpr'], clf['tpr'], label=key)\n",
    "plt.xlabel(\"FPR\")\n",
    "plt.ylabel(\"TPR\")\n",
    "plt.title(\"ROC\")\n",
    "plt.plot([0,1], [0,1], label='No Discrimination', linestyle='-', dashes=(5, 5))\n",
    "plt.savefig(os.path.join('roc_curve_all_models.png'))\n",
    "plt.legend()\n",
    "plt.show()"
   ]
  },
  {
   "cell_type": "code",
   "execution_count": 30,
   "metadata": {},
   "outputs": [
    {
     "data": {
      "image/png": "[encoded data removed]",
      "text/plain": [
       "<Figure size 432x288 with 1 Axes>"
      ]
     },
     "metadata": {
      "needs_background": "light"
     },
     "output_type": "display_data"
    }
   ],
   "source": [
    "for key in prc_dict:\n",
    "    clf = prc_dict[key]\n",
    "    plt.plot(clf['precision'], clf['recall'], label=key)\n",
    "plt.xlabel(\"Precision\")\n",
    "plt.ylabel(\"Recall\")\n",
    "plt.title(\"Precision Recall Curve\")\n",
    "plt.legend()\n",
    "\n",
    "plt.savefig(os.path.join('prc_curve_all_models.png'))\n",
    "\n",
    "\n",
    "plt.show()"
   ]
  },
  {
   "cell_type": "code",
   "execution_count": 31,
   "metadata": {},
   "outputs": [
    {
     "name": "stdout",
     "output_type": "stream",
     "text": [
      "Estimate: 4.020\n"
     ]
    },
    {
     "data": {
      "text/plain": [
       "XGBClassifier(base_score=0.5, booster='gbtree', colsample_bylevel=1,\n",
       "              colsample_bynode=1, colsample_bytree=1, gamma=0, gpu_id=-1,\n",
       "              importance_type='gain', interaction_constraints='',\n",
       "              learning_rate=0.300000012, max_delta_step=0, max_depth=6,\n",
       "              min_child_weight=1, missing=nan, monotone_constraints='()',\n",
       "              n_estimators=300, n_jobs=-1, num_parallel_tree=1,\n",
       "              objective='binary:logistic', random_state=0, reg_alpha=0,\n",
       "              reg_lambda=1, scale_pos_weight=4.019856764541009, subsample=0.9,\n",
       "              tree_method='exact', validate_parameters=1, verbosity=None)"
      ]
     },
     "execution_count": 31,
     "metadata": {},
     "output_type": "execute_result"
    }
   ],
   "source": [
    "from collections import Counter\n",
    "counter = Counter(y_train)\n",
    "# estimate scale_pos_weight value\n",
    "estimate = counter[0] / counter[1]\n",
    "print('Estimate: %.3f' % estimate)\n",
    "xgb_clf = xgb.XGBClassifier(n_estimators=300,\n",
    "                            subsample=0.9,\n",
    "                            n_jobs=-1,\n",
    "                           scale_pos_weight=estimate)\n",
    "\n",
    "xgb_clf.fit(X_train, y_train)"
   ]
  },
  {
   "cell_type": "code",
   "execution_count": 32,
   "metadata": {},
   "outputs": [
    {
     "name": "stdout",
     "output_type": "stream",
     "text": [
      "Saving model at: models/xgb_default_params.pickle\n"
     ]
    }
   ],
   "source": [
    "#define location to save trained model\n",
    "save_model_dir = os.path.join('models/xgb_default_params.pickle')\n",
    "print(\"Saving model at: {}\".format(save_model_dir))\n",
    "\n",
    "#save the model\n",
    "with open(save_model_dir, 'wb') as handle:\n",
    "    pickle.dump(xgb_clf,\n",
    "                handle,\n",
    "                protocol=pickle.HIGHEST_PROTOCOL)"
   ]
  },
  {
   "cell_type": "code",
   "execution_count": 33,
   "metadata": {},
   "outputs": [
    {
     "data": {
      "image/png": "[encoded data removed]",
      "text/plain": [
       "<Figure size 432x288 with 1 Axes>"
      ]
     },
     "metadata": {
      "needs_background": "light"
     },
     "output_type": "display_data"
    }
   ],
   "source": [
    "\n",
    "#”weight” is the number of times a feature appears in a tree\n",
    "xgb.plot_importance(xgb_clf, \n",
    "                    importance_type='weight',\n",
    "                    max_num_features=5, \n",
    "                    title='plot_importance: importance_type=\"weighted\"')\n",
    "plt.tight_layout()\n",
    "plt.show()"
   ]
  },
  {
   "cell_type": "code",
   "execution_count": 34,
   "metadata": {},
   "outputs": [
    {
     "data": {
      "image/png": "[encoded data removed]",
      "text/plain": [
       "<Figure size 432x288 with 1 Axes>"
      ]
     },
     "metadata": {
      "needs_background": "light"
     },
     "output_type": "display_data"
    }
   ],
   "source": [
    "#”gain” is the average gain of splits which use the feature\n",
    "\n",
    "xgb.plot_importance(xgb_clf, \n",
    "                    importance_type='gain',\n",
    "                    max_num_features=5, \n",
    "                    title='plot_importance: importance_type=\"gain\"')\n",
    "plt.tight_layout()\n",
    "plt.show()"
   ]
  },
  {
   "cell_type": "code",
   "execution_count": 35,
   "metadata": {},
   "outputs": [
    {
     "data": {
      "image/png": "[encoded data removed]",
      "text/plain": [
       "<Figure size 432x288 with 1 Axes>"
      ]
     },
     "metadata": {
      "needs_background": "light"
     },
     "output_type": "display_data"
    }
   ],
   "source": [
    "#is the average coverage of splits which use the feature \n",
    "#where coverage is defined as the number of samples affected by the split\n",
    "\n",
    "xgb.plot_importance(xgb_clf, \n",
    "                    importance_type='cover',\n",
    "                    max_num_features=5, \n",
    "                    title='plot_importance: importance_type=\"cover\"')\n",
    "plt.tight_layout()\n",
    "plt.show()"
   ]
  },
  {
   "cell_type": "code",
   "execution_count": 36,
   "metadata": {},
   "outputs": [],
   "source": [
    "y_pred=xgb_clf.predict(X_test)\n",
    "y_prob=xgb_clf.predict_proba(X_test)"
   ]
  },
  {
   "cell_type": "code",
   "execution_count": 37,
   "metadata": {},
   "outputs": [],
   "source": [
    "y_prob=y_prob[:, 1] #keeping only positive outcomes"
   ]
  },
  {
   "cell_type": "code",
   "execution_count": 38,
   "metadata": {},
   "outputs": [
    {
     "name": "stdout",
     "output_type": "stream",
     "text": [
      "[[91648 48882]\n",
      " [19700 33978]]\n",
      "              precision    recall  f1-score   support\n",
      "\n",
      "           0       0.82      0.65      0.73    140530\n",
      "           1       0.41      0.63      0.50     53678\n",
      "\n",
      "    accuracy                           0.65    194208\n",
      "   macro avg       0.62      0.64      0.61    194208\n",
      "weighted avg       0.71      0.65      0.66    194208\n",
      "\n"
     ]
    }
   ],
   "source": [
    "from sklearn import metrics\n",
    "print(metrics.confusion_matrix(y_test, y_pred))\n",
    "# Printing the precision and recall, among other metrics\n",
    "print(metrics.classification_report(y_test, y_pred))"
   ]
  },
  {
   "cell_type": "code",
   "execution_count": 39,
   "metadata": {},
   "outputs": [
    {
     "name": "stdout",
     "output_type": "stream",
     "text": [
      "AUC: 0.697\n"
     ]
    }
   ],
   "source": [
    "...\n",
    "# calculate AUC\n",
    "auc = roc_auc_score(y_test, y_prob)\n",
    "print('AUC: %.3f' % auc)"
   ]
  }
 ],
 "metadata": {
  "kernelspec": {
   "display_name": "Python 3",
   "language": "python",
   "name": "python3"
  },
  "language_info": {
   "codemirror_mode": {
    "name": "ipython",
    "version": 3
   },
   "file_extension": ".py",
   "mimetype": "text/x-python",
   "name": "python",
   "nbconvert_exporter": "python",
   "pygments_lexer": "ipython3",
   "version": "3.7.4"
  }
 },
 "nbformat": 4,
 "nbformat_minor": 4
}
